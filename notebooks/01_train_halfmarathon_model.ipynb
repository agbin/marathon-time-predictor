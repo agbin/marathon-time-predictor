{
 "cells": [
  {
   "cell_type": "markdown",
   "metadata": {},
   "source": [
    "# 🏃‍♂️ Trening Modelu Przewidywania Czasu Półmaratonu\n",
    "\n",
    "## Cel:\n",
    "Wytrenować model sklearn do przewidywania czasu półmaratonu na podstawie:\n",
    "- Wieku biegacza\n",
    "- Płci\n",
    "- Tempa na 5km\n",
    "- Tempa na 10km (jeśli dostępne)\n",
    "\n",
    "## Dane:\n",
    "- halfmarathon_wroclaw_2023__final.csv\n",
    "- halfmarathon_wroclaw_2024__final(2).csv"
   ]
  },
  {
   "cell_type": "code",
   "execution_count": null,
   "metadata": {},
   "outputs": [],
   "source": [
    "# 📦 IMPORTY\n",
    "import pandas as pd\n",
    "import numpy as np\n",
    "import matplotlib.pyplot as plt\n",
    "import seaborn as sns\n",
    "from sklearn.model_selection import train_test_split\n",
    "from sklearn.ensemble import RandomForestRegressor\n",
    "from sklearn.linear_model import LinearRegression\n",
    "from sklearn.preprocessing import LabelEncoder\n",
    "from sklearn.metrics import mean_absolute_error, mean_squared_error, r2_score\n",
    "import joblib\n",
    "import warnings\n",
    "warnings.filterwarnings('ignore')\n",
    "\n",
    "print(\"✅ Importy załadowane!\")"
   ]
  },
  {
   "cell_type": "code",
   "execution_count": null,
   "metadata": {},
   "outputs": [],
   "source": [
    "# 📊 WCZYTANIE DANYCH\n",
    "print(\"📊 Wczytywanie danych...\")\n",
    "\n",
    "# Wczytaj dane z obu lat\n",
    "df_2023 = pd.read_csv('../data/halfmarathon_wroclaw_2023__final.csv')\n",
    "df_2024 = pd.read_csv('../data/halfmarathon_wroclaw_2024__final(2).csv')\n",
    "\n",
    "print(f\"📈 Dane 2023: {df_2023.shape[0]} rekordów, {df_2023.shape[1]} kolumn\")\n",
    "print(f\"📈 Dane 2024: {df_2024.shape[0]} rekordów, {df_2024.shape[1]} kolumn\")\n",
    "\n",
    "# Sprawdź kolumny\n",
    "print(\"\\n🔍 Kolumny 2023:\")\n",
    "print(df_2023.columns.tolist())\n",
    "print(\"\\n🔍 Kolumny 2024:\")\n",
    "print(df_2024.columns.tolist())"
   ]
  },
  {
   "cell_type": "code",
   "execution_count": null,
   "metadata": {},
   "outputs": [],
   "source": [
    "# 🔍 EKSPLORACJA DANYCH\n",
    "print(\"🔍 Eksploracja danych 2023:\")\n",
    "print(df_2023.head())\n",
    "print(\"\\n📊 Info:\")\n",
    "print(df_2023.info())\n",
    "print(\"\\n📈 Statystyki:\")\n",
    "print(df_2023.describe())"
   ]
  },
  {
   "cell_type": "code",
   "execution_count": null,
   "metadata": {},
   "outputs": [],
   "source": [
    "# 🧹 CZYSZCZENIE I PRZYGOTOWANIE DANYCH\n",
    "def clean_and_prepare_data(df, year):\n",
    "    \"\"\"Czyści i przygotowuje dane do treningu modelu\"\"\"\n",
    "    print(f\"🧹 Czyszczenie danych {year}...\")\n",
    "    \n",
    "    df_clean = df.copy()\n",
    "    \n",
    "    # Dodaj rok jako kolumnę\n",
    "    df_clean['year'] = year\n",
    "    \n",
    "    # Znajdź kolumny z czasami i wiekiem\n",
    "    time_cols = [col for col in df_clean.columns if 'time' in col.lower() or 'czas' in col.lower()]\n",
    "    age_cols = [col for col in df_clean.columns if 'age' in col.lower() or 'wiek' in col.lower()]\n",
    "    gender_cols = [col for col in df_clean.columns if 'gender' in col.lower() or 'płeć' in col.lower() or 'sex' in col.lower()]\n",
    "    \n",
    "    print(f\"⏰ Kolumny czasowe: {time_cols}\")\n",
    "    print(f\"👤 Kolumny wiekowe: {age_cols}\")\n",
    "    print(f\"⚧ Kolumny płci: {gender_cols}\")\n",
    "    \n",
    "    return df_clean\n",
    "\n",
    "# Wyczyść dane\n",
    "df_2023_clean = clean_and_prepare_data(df_2023, 2023)\n",
    "df_2024_clean = clean_and_prepare_data(df_2024, 2024)"
   ]
  },
  {
   "cell_type": "code",
   "execution_count": null,
   "metadata": {},
   "outputs": [],
   "source": [
    "# 🔗 POŁĄCZENIE DANYCH\n",
    "print(\"🔗 Łączenie danych z obu lat...\")\n",
    "\n",
    "# Znajdź wspólne kolumny\n",
    "common_cols = list(set(df_2023_clean.columns) & set(df_2024_clean.columns))\n",
    "print(f\"📊 Wspólne kolumny ({len(common_cols)}): {common_cols[:10]}...\")\n",
    "\n",
    "# Połącz dane używając wspólnych kolumn\n",
    "df_combined = pd.concat([\n",
    "    df_2023_clean[common_cols],\n",
    "    df_2024_clean[common_cols]\n",
    "], ignore_index=True)\n",
    "\n",
    "print(f\"✅ Połączone dane: {df_combined.shape[0]} rekordów, {df_combined.shape[1]} kolumn\")\n",
    "print(f\"📈 Rozkład lat: {df_combined['year'].value_counts()}\")"
   ]
  },
  {
   "cell_type": "code",
   "execution_count": null,
   "metadata": {},
   "outputs": [],
   "source": [
    "# 🎯 IDENTYFIKACJA KLUCZOWYCH KOLUMN\n",
    "print(\"🎯 Identyfikacja kluczowych kolumn...\")\n",
    "\n",
    "# Wyświetl wszystkie kolumny dla analizy\n",
    "print(\"📋 Wszystkie dostępne kolumny:\")\n",
    "for i, col in enumerate(df_combined.columns):\n",
    "    print(f\"{i+1:2d}. {col}\")\n",
    "\n",
    "# Sprawdź brakujące wartości\n",
    "print(\"\\n❌ Brakujące wartości:\")\n",
    "missing = df_combined.isnull().sum()\n",
    "missing_pct = (missing / len(df_combined)) * 100\n",
    "missing_df = pd.DataFrame({\n",
    "    'Kolumna': missing.index,\n",
    "    'Brakujące': missing.values,\n",
    "    'Procent': missing_pct.values\n",
    "}).sort_values('Procent', ascending=False)\n",
    "\n",
    "print(missing_df.head(10))"
   ]
  },
  {
   "cell_type": "code",
   "execution_count": null,
   "metadata": {},
   "outputs": [],
   "source": [
    "# 🏃‍♂️ FEATURE ENGINEERING\n",
    "print(\"🏃‍♂️ Feature Engineering...\")\n",
    "\n",
    "# Ta komórka będzie dostosowana po zobaczeniu rzeczywistych kolumn\n",
    "# Tutaj zidentyfikujemy:\n",
    "# - Kolumnę z czasem końcowym (target)\n",
    "# - Kolumnę z wiekiem\n",
    "# - Kolumnę z płcią\n",
    "# - Kolumny z czasami na 5km, 10km\n",
    "\n",
    "print(\"⏳ Czekam na analizę kolumn...\")"
   ]
  },
  {
   "cell_type": "code",
   "execution_count": null,
   "metadata": {},
   "outputs": [],
   "source": [
    "# 🤖 TRENOWANIE MODELU\n",
    "print(\"🤖 Trenowanie modelu...\")\n",
    "\n",
    "# Ten kod będzie uzupełniony po identyfikacji kolumn\n",
    "print(\"⏳ Czekam na przygotowanie features...\")"
   ]
  },
  {
   "cell_type": "code",
   "execution_count": null,
   "metadata": {},
   "outputs": [],
   "source": [
    "# 💾 ZAPIS MODELU\n",
    "print(\"💾 Zapisywanie modelu...\")\n",
    "\n",
    "# model_path = '../models/halfmarathon_predictor.pkl'\n",
    "# joblib.dump(best_model, model_path)\n",
    "# print(f\"✅ Model zapisany: {model_path}\")\n",
    "\n",
    "print(\"⏳ Czekam na wytrenowanie modelu...\")"
   ]
  }
 ],
 "metadata": {
  "kernelspec": {
   "display_name": "od_zera_do_ai",
   "language": "python",
   "name": "python3"
  },
  "language_info": {
   "codemirror_mode": {
    "name": "ipython",
    "version": 3
   },
   "file_extension": ".py",
   "mimetype": "text/x-python",
   "name": "python",
   "nbconvert_exporter": "python",
   "pygments_lexer": "ipython3",
   "version": "3.11.5"
  }
 },
 "nbformat": 4,
 "nbformat_minor": 2
}
